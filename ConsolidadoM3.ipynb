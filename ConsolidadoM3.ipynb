{
  "nbformat": 4,
  "nbformat_minor": 0,
  "metadata": {
    "colab": {
      "provenance": [],
      "mount_file_id": "1lir7XhAHRKK93G9j2aWqHD4JnIKf6BTg",
      "authorship_tag": "ABX9TyMoJ1Ou58Fd05HI3FntwFyA",
      "include_colab_link": true
    },
    "kernelspec": {
      "name": "python3",
      "display_name": "Python 3"
    },
    "language_info": {
      "name": "python"
    }
  },
  "cells": [
    {
      "cell_type": "markdown",
      "metadata": {
        "id": "view-in-github",
        "colab_type": "text"
      },
      "source": [
        "<a href=\"https://colab.research.google.com/github/KaruDevs/AN-LISIS-DE-DATOS-DE-MIGRACI-N-CON-NUMPY-Y-PANDAS/blob/main/ConsolidadoM3.ipynb\" target=\"_parent\"><img src=\"https://colab.research.google.com/assets/colab-badge.svg\" alt=\"Open In Colab\"/></a>"
      ]
    },
    {
      "cell_type": "code",
      "execution_count": null,
      "metadata": {
        "id": "avc8P2ku0uHy"
      },
      "outputs": [],
      "source": []
    },
    {
      "cell_type": "markdown",
      "metadata": {
        "id": "e75b970a"
      },
      "source": [
        "## Install necessary libraries\n",
        "\n",
        "### Subtask:\n",
        "Install the libraries required to work with PDF files in Python.\n"
      ]
    },
    {
      "cell_type": "markdown",
      "metadata": {
        "id": "de53fbb7"
      },
      "source": [
        "**Reasoning**:\n",
        "Install the `PyMuPDF` library using pip.\n",
        "\n"
      ]
    },
    {
      "cell_type": "code",
      "metadata": {
        "colab": {
          "base_uri": "https://localhost:8080/"
        },
        "id": "ad6f98c1",
        "outputId": "514c97a3-311f-4d3e-e629-1efe2892316f"
      },
      "source": [
        "%pip install PyMuPDF"
      ],
      "execution_count": 1,
      "outputs": [
        {
          "output_type": "stream",
          "name": "stdout",
          "text": [
            "Collecting PyMuPDF\n",
            "  Downloading pymupdf-1.26.4-cp39-abi3-manylinux_2_28_x86_64.whl.metadata (3.4 kB)\n",
            "Downloading pymupdf-1.26.4-cp39-abi3-manylinux_2_28_x86_64.whl (24.1 MB)\n",
            "\u001b[2K   \u001b[90m━━━━━━━━━━━━━━━━━━━━━━━━━━━━━━━━━━━━━━━━\u001b[0m \u001b[32m24.1/24.1 MB\u001b[0m \u001b[31m34.1 MB/s\u001b[0m eta \u001b[36m0:00:00\u001b[0m\n",
            "\u001b[?25hInstalling collected packages: PyMuPDF\n",
            "Successfully installed PyMuPDF-1.26.4\n"
          ]
        }
      ]
    },
    {
      "cell_type": "markdown",
      "metadata": {
        "id": "1ec8d429"
      },
      "source": [
        "## Import libraries\n",
        "\n",
        "### Subtask:\n",
        "Import the installed libraries into the notebook.\n"
      ]
    },
    {
      "cell_type": "markdown",
      "metadata": {
        "id": "5baa7cfe"
      },
      "source": [
        "**Reasoning**:\n",
        "Import the `fitz` library to work with PDF documents.\n",
        "\n"
      ]
    },
    {
      "cell_type": "code",
      "metadata": {
        "id": "9141ab45"
      },
      "source": [
        "import fitz"
      ],
      "execution_count": 2,
      "outputs": []
    },
    {
      "cell_type": "markdown",
      "metadata": {
        "id": "a9110ff4"
      },
      "source": [
        "## Load the pdf file\n",
        "\n",
        "### Subtask:\n",
        "Write code to load the PDF file.\n"
      ]
    },
    {
      "cell_type": "markdown",
      "metadata": {
        "id": "a48c2c4b"
      },
      "source": [
        "**Reasoning**:\n",
        "Load the PDF file using fitz.open() and store the document object in a variable.\n",
        "\n"
      ]
    },
    {
      "cell_type": "code",
      "metadata": {
        "id": "af4feb05"
      },
      "source": [
        "doc = fitz.open(\"/content/EVALUACION FINAL M3.pdf\")"
      ],
      "execution_count": 3,
      "outputs": []
    },
    {
      "cell_type": "markdown",
      "metadata": {
        "id": "23fd6dc8"
      },
      "source": [
        "## Extract text from the pdf\n",
        "\n",
        "### Subtask:\n",
        "Write code to extract text content from the loaded PDF.\n"
      ]
    },
    {
      "cell_type": "markdown",
      "metadata": {
        "id": "1ce2b1fb"
      },
      "source": [
        "**Reasoning**:\n",
        "Extract text from each page of the PDF and store it in a string variable.\n",
        "\n"
      ]
    },
    {
      "cell_type": "code",
      "metadata": {
        "colab": {
          "base_uri": "https://localhost:8080/"
        },
        "id": "9c136dbc",
        "outputId": "ed560530-b31c-4459-9b1d-8e4309f1dbe5"
      },
      "source": [
        "text = \"\"\n",
        "for page_num in range(doc.page_count):\n",
        "    page = doc.load_page(page_num)\n",
        "    text += page.get_text()\n",
        "\n",
        "print(text[:500]) # Print the first 500 characters to verify"
      ],
      "execution_count": 4,
      "outputs": [
        {
          "output_type": "stream",
          "name": "stdout",
          "text": [
            " \n",
            " \n",
            "EVALUACIÓN FINAL: ANÁLISIS DE DATOS DE MIGRACIÓN CON NUMPY Y PANDAS \n",
            "Un instituto de investigación internacional está analizando datos de migración del siglo XXI para \n",
            "identificar tendencias y factores socioeconómicos que afectan los movimientos de población. Se ha \n",
            "entregado un dataset en formato CSV con información sobre migraciones entre distintos países, \n",
            "incluyendo cantidad de migrantes, razones de migración y variables económicas. \n",
            "El instituto necesita que analices, transformes y prep\n"
          ]
        }
      ]
    },
    {
      "cell_type": "markdown",
      "metadata": {
        "id": "22445201"
      },
      "source": [
        "## Provide explanation\n",
        "\n",
        "### Subtask:\n",
        "Add markdown cells to explain the code and the process for students.\n"
      ]
    },
    {
      "cell_type": "markdown",
      "metadata": {
        "id": "4ea15177"
      },
      "source": [
        "**Reasoning**:\n",
        "Add markdown cells to explain the code and the process for students.\n",
        "\n"
      ]
    },
    {
      "cell_type": "code",
      "metadata": {
        "colab": {
          "base_uri": "https://localhost:8080/",
          "height": 831
        },
        "id": "5241b5e3",
        "outputId": "9c873010-5035-44c0-8001-2c6056925fbd"
      },
      "source": [
        "%%markdown\n",
        "# Extracting Text from PDF using Python\n",
        "\n",
        "This guide explains how to extract text content from a PDF file using the `PyMuPDF` library in Python.\n",
        "\n",
        "## Purpose\n",
        "\n",
        "The purpose of this script is to demonstrate a simple and effective way to programmatically access and retrieve the textual information embedded within a PDF document. This can be useful for various applications, such as:\n",
        "\n",
        "*   Analyzing document content\n",
        "*   Creating text-based search indexes\n",
        "*   Converting PDFs to other text formats\n",
        "*   Automating data extraction from reports or forms\n",
        "\n",
        "## Process and Code Explanation\n",
        "\n",
        "The process involves the following steps:\n",
        "\n",
        "1.  **Installing the necessary library:** We use `PyMuPDF`, a Python binding for MuPDF, which is a lightweight PDF, XPS, and E-book interpreter library.\n",
        "    ```bash\n",
        "    %pip install PyMuPDF\n",
        "    ```\n",
        "    This command installs the `PyMuPDF` package and its dependencies into your Python environment, making the `fitz` module available for use.\n",
        "\n",
        "2.  **Importing the library:** We import the `fitz` module, which is the primary interface for interacting with PDF documents using `PyMuPDF`.\n",
        "    ```python\n",
        "    import fitz\n",
        "    ```\n",
        "\n",
        "3.  **Loading the PDF file:** We open the target PDF file using `fitz.open()`.\n",
        "    ```python\n",
        "    doc = fitz.open(\"/content/EVALUACION FINAL M3.pdf\")\n",
        "    ```\n",
        "    This line opens the specified PDF file and creates a `Document` object (`doc`) that represents the PDF. This object allows us to access its properties and content.\n",
        "\n",
        "4.  **Iterating through pages and extracting text:** We loop through each page of the document and extract its text content.\n",
        "    ```python\n",
        "    text = \"\"\n",
        "    for page_num in range(doc.page_count):\n",
        "        page = doc.load_page(page_num)\n",
        "        text += page.get_text()\n",
        "    ```\n",
        "    - `text = \"\"`: Initializes an empty string variable to store the extracted text from all pages.\n",
        "    - `for page_num in range(doc.page_count):`: This loop iterates through each page of the document. `doc.page_count` gives the total number of pages in the PDF.\n",
        "    - `page = doc.load_page(page_num)`: Loads the current page object based on its index (`page_num`).\n",
        "    - `text += page.get_text()`: Extracts the text content from the current page using the `get_text()` method and appends it to the `text` variable.\n",
        "\n",
        "5.  **Verifying the extraction (Optional):** We can print a portion of the extracted text to confirm that the process was successful.\n",
        "    ```python\n",
        "    print(text[:500]) # Print the first 500 characters to verify\n",
        "    ```\n",
        "    This line prints the first 500 characters of the `text` variable, giving us a glimpse of the extracted content to ensure it looks as expected.\n",
        "\n",
        "This process allows you to programmatically extract the entire text content of a PDF document for further processing or analysis.\n"
      ],
      "execution_count": 5,
      "outputs": [
        {
          "output_type": "display_data",
          "data": {
            "text/plain": [
              "<IPython.core.display.Markdown object>"
            ],
            "text/markdown": "# Extracting Text from PDF using Python\n\nThis guide explains how to extract text content from a PDF file using the `PyMuPDF` library in Python.\n\n## Purpose\n\nThe purpose of this script is to demonstrate a simple and effective way to programmatically access and retrieve the textual information embedded within a PDF document. This can be useful for various applications, such as:\n\n*   Analyzing document content\n*   Creating text-based search indexes\n*   Converting PDFs to other text formats\n*   Automating data extraction from reports or forms\n\n## Process and Code Explanation\n\nThe process involves the following steps:\n\n1.  **Installing the necessary library:** We use `PyMuPDF`, a Python binding for MuPDF, which is a lightweight PDF, XPS, and E-book interpreter library.\n    ```bash\n    %pip install PyMuPDF\n    ```\n    This command installs the `PyMuPDF` package and its dependencies into your Python environment, making the `fitz` module available for use.\n\n2.  **Importing the library:** We import the `fitz` module, which is the primary interface for interacting with PDF documents using `PyMuPDF`.\n    ```python\n    import fitz\n    ```\n\n3.  **Loading the PDF file:** We open the target PDF file using `fitz.open()`.\n    ```python\n    doc = fitz.open(\"/content/EVALUACION FINAL M3.pdf\")\n    ```\n    This line opens the specified PDF file and creates a `Document` object (`doc`) that represents the PDF. This object allows us to access its properties and content.\n\n4.  **Iterating through pages and extracting text:** We loop through each page of the document and extract its text content.\n    ```python\n    text = \"\"\n    for page_num in range(doc.page_count):\n        page = doc.load_page(page_num)\n        text += page.get_text()\n    ```\n    - `text = \"\"`: Initializes an empty string variable to store the extracted text from all pages.\n    - `for page_num in range(doc.page_count):`: This loop iterates through each page of the document. `doc.page_count` gives the total number of pages in the PDF.\n    - `page = doc.load_page(page_num)`: Loads the current page object based on its index (`page_num`).\n    - `text += page.get_text()`: Extracts the text content from the current page using the `get_text()` method and appends it to the `text` variable.\n\n5.  **Verifying the extraction (Optional):** We can print a portion of the extracted text to confirm that the process was successful.\n    ```python\n    print(text[:500]) # Print the first 500 characters to verify\n    ```\n    This line prints the first 500 characters of the `text` variable, giving us a glimpse of the extracted content to ensure it looks as expected.\n\nThis process allows you to programmatically extract the entire text content of a PDF document for further processing or analysis.\n"
          },
          "metadata": {}
        }
      ]
    }
  ]
}