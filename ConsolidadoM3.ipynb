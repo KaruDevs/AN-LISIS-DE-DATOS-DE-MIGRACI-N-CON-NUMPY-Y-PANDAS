{
  "nbformat": 4,
  "nbformat_minor": 0,
  "metadata": {
    "colab": {
      "provenance": [],
      "authorship_tag": "ABX9TyN02UZA+MMR/38Z+EqwxYxj",
      "include_colab_link": true
    },
    "kernelspec": {
      "name": "python3",
      "display_name": "Python 3"
    },
    "language_info": {
      "name": "python"
    }
  },
  "cells": [
    {
      "cell_type": "markdown",
      "metadata": {
        "id": "view-in-github",
        "colab_type": "text"
      },
      "source": [
        "<a href=\"https://colab.research.google.com/github/KaruDevs/AN-LISIS-DE-DATOS-DE-MIGRACI-N-CON-NUMPY-Y-PANDAS/blob/main/ConsolidadoM3.ipynb\" target=\"_parent\"><img src=\"https://colab.research.google.com/assets/colab-badge.svg\" alt=\"Open In Colab\"/></a>"
      ]
    },
    {
      "cell_type": "code",
      "source": [
        "pip install pandas plotly seaborn matplotlib"
      ],
      "metadata": {
        "colab": {
          "base_uri": "https://localhost:8080/"
        },
        "id": "jSRccnDk9lDk",
        "outputId": "ae43b2ba-0764-428f-d3fc-a18be70eae1f"
      },
      "execution_count": 11,
      "outputs": [
        {
          "output_type": "stream",
          "name": "stdout",
          "text": [
            "Requirement already satisfied: pandas in /usr/local/lib/python3.12/dist-packages (2.2.2)\n",
            "Requirement already satisfied: plotly in /usr/local/lib/python3.12/dist-packages (5.24.1)\n",
            "Requirement already satisfied: seaborn in /usr/local/lib/python3.12/dist-packages (0.13.2)\n",
            "Requirement already satisfied: matplotlib in /usr/local/lib/python3.12/dist-packages (3.10.0)\n",
            "Requirement already satisfied: numpy>=1.26.0 in /usr/local/lib/python3.12/dist-packages (from pandas) (2.0.2)\n",
            "Requirement already satisfied: python-dateutil>=2.8.2 in /usr/local/lib/python3.12/dist-packages (from pandas) (2.9.0.post0)\n",
            "Requirement already satisfied: pytz>=2020.1 in /usr/local/lib/python3.12/dist-packages (from pandas) (2025.2)\n",
            "Requirement already satisfied: tzdata>=2022.7 in /usr/local/lib/python3.12/dist-packages (from pandas) (2025.2)\n",
            "Requirement already satisfied: tenacity>=6.2.0 in /usr/local/lib/python3.12/dist-packages (from plotly) (8.5.0)\n",
            "Requirement already satisfied: packaging in /usr/local/lib/python3.12/dist-packages (from plotly) (25.0)\n",
            "Requirement already satisfied: contourpy>=1.0.1 in /usr/local/lib/python3.12/dist-packages (from matplotlib) (1.3.3)\n",
            "Requirement already satisfied: cycler>=0.10 in /usr/local/lib/python3.12/dist-packages (from matplotlib) (0.12.1)\n",
            "Requirement already satisfied: fonttools>=4.22.0 in /usr/local/lib/python3.12/dist-packages (from matplotlib) (4.60.0)\n",
            "Requirement already satisfied: kiwisolver>=1.3.1 in /usr/local/lib/python3.12/dist-packages (from matplotlib) (1.4.9)\n",
            "Requirement already satisfied: pillow>=8 in /usr/local/lib/python3.12/dist-packages (from matplotlib) (11.3.0)\n",
            "Requirement already satisfied: pyparsing>=2.3.1 in /usr/local/lib/python3.12/dist-packages (from matplotlib) (3.2.4)\n",
            "Requirement already satisfied: six>=1.5 in /usr/local/lib/python3.12/dist-packages (from python-dateutil>=2.8.2->pandas) (1.17.0)\n"
          ]
        }
      ]
    },
    {
      "cell_type": "code",
      "source": [
        "pip install flask pandas plotly seaborn matplotlib"
      ],
      "metadata": {
        "colab": {
          "base_uri": "https://localhost:8080/"
        },
        "id": "-GXPDL7w9u7X",
        "outputId": "2f76ec37-6e5e-4eb8-c847-9a54f47cf25d"
      },
      "execution_count": 12,
      "outputs": [
        {
          "output_type": "stream",
          "name": "stdout",
          "text": [
            "Requirement already satisfied: flask in /usr/local/lib/python3.12/dist-packages (3.1.2)\n",
            "Requirement already satisfied: pandas in /usr/local/lib/python3.12/dist-packages (2.2.2)\n",
            "Requirement already satisfied: plotly in /usr/local/lib/python3.12/dist-packages (5.24.1)\n",
            "Requirement already satisfied: seaborn in /usr/local/lib/python3.12/dist-packages (0.13.2)\n",
            "Requirement already satisfied: matplotlib in /usr/local/lib/python3.12/dist-packages (3.10.0)\n",
            "Requirement already satisfied: blinker>=1.9.0 in /usr/local/lib/python3.12/dist-packages (from flask) (1.9.0)\n",
            "Requirement already satisfied: click>=8.1.3 in /usr/local/lib/python3.12/dist-packages (from flask) (8.2.1)\n",
            "Requirement already satisfied: itsdangerous>=2.2.0 in /usr/local/lib/python3.12/dist-packages (from flask) (2.2.0)\n",
            "Requirement already satisfied: jinja2>=3.1.2 in /usr/local/lib/python3.12/dist-packages (from flask) (3.1.6)\n",
            "Requirement already satisfied: markupsafe>=2.1.1 in /usr/local/lib/python3.12/dist-packages (from flask) (3.0.2)\n",
            "Requirement already satisfied: werkzeug>=3.1.0 in /usr/local/lib/python3.12/dist-packages (from flask) (3.1.3)\n",
            "Requirement already satisfied: numpy>=1.26.0 in /usr/local/lib/python3.12/dist-packages (from pandas) (2.0.2)\n",
            "Requirement already satisfied: python-dateutil>=2.8.2 in /usr/local/lib/python3.12/dist-packages (from pandas) (2.9.0.post0)\n",
            "Requirement already satisfied: pytz>=2020.1 in /usr/local/lib/python3.12/dist-packages (from pandas) (2025.2)\n",
            "Requirement already satisfied: tzdata>=2022.7 in /usr/local/lib/python3.12/dist-packages (from pandas) (2025.2)\n",
            "Requirement already satisfied: tenacity>=6.2.0 in /usr/local/lib/python3.12/dist-packages (from plotly) (8.5.0)\n",
            "Requirement already satisfied: packaging in /usr/local/lib/python3.12/dist-packages (from plotly) (25.0)\n",
            "Requirement already satisfied: contourpy>=1.0.1 in /usr/local/lib/python3.12/dist-packages (from matplotlib) (1.3.3)\n",
            "Requirement already satisfied: cycler>=0.10 in /usr/local/lib/python3.12/dist-packages (from matplotlib) (0.12.1)\n",
            "Requirement already satisfied: fonttools>=4.22.0 in /usr/local/lib/python3.12/dist-packages (from matplotlib) (4.60.0)\n",
            "Requirement already satisfied: kiwisolver>=1.3.1 in /usr/local/lib/python3.12/dist-packages (from matplotlib) (1.4.9)\n",
            "Requirement already satisfied: pillow>=8 in /usr/local/lib/python3.12/dist-packages (from matplotlib) (11.3.0)\n",
            "Requirement already satisfied: pyparsing>=2.3.1 in /usr/local/lib/python3.12/dist-packages (from matplotlib) (3.2.4)\n",
            "Requirement already satisfied: six>=1.5 in /usr/local/lib/python3.12/dist-packages (from python-dateutil>=2.8.2->pandas) (1.17.0)\n"
          ]
        }
      ]
    },
    {
      "cell_type": "code",
      "source": [
        "# app.py\n",
        "\n",
        "from flask import Flask, render_template, send_file\n",
        "import pandas as pd\n",
        "import plotly.express as px\n",
        "import seaborn as sns\n",
        "import matplotlib.pyplot as plt\n",
        "import os\n",
        "\n",
        "app = Flask(__name__)\n",
        "\n",
        "# Ruta base\n",
        "@app.route('/')\n",
        "def index():\n",
        "    return '<h2>Dashboard de Migración</h2><ul>' \\\n",
        "           '<li><a href=\"/grafico\">Gráfico de Migrantes por País</a></li>' \\\n",
        "           '<li><a href=\"/correlacion\">Mapa de Calor de Correlaciones</a></li></ul>'\n",
        "\n",
        "# Ruta para gráfico de barras interactivo\n",
        "@app.route('/grafico')\n",
        "def grafico():\n",
        "    df = pd.read_csv('migración.csv')\n",
        "\n",
        "    # Corrección de codificación\n",
        "    df['Pais_Origen'] = df['Pais_Origen'].str.encode('latin1').str.decode('utf-8')\n",
        "    df['Pais_Destino'] = df['Pais_Destino'].str.encode('latin1').str.decode('utf-8')\n",
        "    df['Razon_Migracion'] = df['Razon_Migracion'].str.encode('latin1').str.decode('utf-8')\n",
        "\n",
        "    # Agrupamiento\n",
        "    origen_total = df.groupby('Pais_Origen')['Cantidad_Migrantes'].sum().reset_index()\n",
        "\n",
        "    # Gráfico con Plotly\n",
        "    fig = px.bar(\n",
        "        origen_total,\n",
        "        x='Pais_Origen',\n",
        "        y='Cantidad_Migrantes',\n",
        "        title='Migrantes por País de Origen',\n",
        "        labels={'Cantidad_Migrantes': 'Cantidad de Migrantes'},\n",
        "        color='Cantidad_Migrantes',\n",
        "        color_continuous_scale='Viridis'\n",
        "    )\n",
        "\n",
        "    # Guardar como HTML temporal\n",
        "    fig.write_html('static/grafico.html')\n",
        "    return render_template('grafico.html')\n",
        "\n",
        "# Ruta para mapa de calor de correlaciones\n",
        "@app.route('/correlacion')\n",
        "def correlacion():\n",
        "    df = pd.read_csv('migración.csv')\n",
        "\n",
        "    # Corrección de codificación\n",
        "    df['Pais_Origen'] = df['Pais_Origen'].str.encode('latin1').str.decode('utf-8')\n",
        "    df['Pais_Destino'] = df['Pais_Destino'].str.encode('latin1').str.decode('utf-8')\n",
        "    df['Razon_Migracion'] = df['Razon_Migracion'].str.encode('latin1').str.decode('utf-8')\n",
        "\n",
        "    # Variables numéricas\n",
        "    variables = df[['Cantidad_Migrantes', 'PIB_Origen', 'PIB_Destino', 'IDH_Origen', 'IDH_Destino']]\n",
        "\n",
        "    # Mapa de calor\n",
        "    plt.figure(figsize=(10, 6))\n",
        "    sns.heatmap(variables.corr(), annot=True, cmap='coolwarm')\n",
        "    plt.title('Correlaciones entre Variables Económicas y Migración')\n",
        "    plt.tight_layout()\n",
        "    plt.savefig('static/correlacion.png')\n",
        "    plt.close()\n",
        "\n",
        "    return '<h2>Mapa de Calor de Correlaciones</h2><img src=\"/static/correlacion.png\">'\n",
        "\n",
        "if __name__ == '__main__':\n",
        "    os.makedirs('static', exist_ok=True)\n",
        "    app.run(debug=True)"
      ],
      "metadata": {
        "colab": {
          "base_uri": "https://localhost:8080/"
        },
        "id": "_fELrPpp9pFy",
        "outputId": "df496090-af0f-4e20-c286-a58c7459d27d"
      },
      "execution_count": null,
      "outputs": [
        {
          "output_type": "stream",
          "name": "stdout",
          "text": [
            " * Serving Flask app '__main__'\n",
            " * Debug mode: on\n"
          ]
        },
        {
          "output_type": "stream",
          "name": "stderr",
          "text": [
            "INFO:werkzeug:\u001b[31m\u001b[1mWARNING: This is a development server. Do not use it in a production deployment. Use a production WSGI server instead.\u001b[0m\n",
            " * Running on http://127.0.0.1:5000\n",
            "INFO:werkzeug:\u001b[33mPress CTRL+C to quit\u001b[0m\n",
            "INFO:werkzeug: * Restarting with watchdog (inotify)\n"
          ]
        }
      ]
    },
    {
      "cell_type": "code",
      "source": [
        "# analisis_migracion.py\n",
        "\n",
        "import pandas as pd\n",
        "import plotly.express as px\n",
        "import seaborn as sns\n",
        "import matplotlib.pyplot as plt\n",
        "\n",
        "# Cargar el archivo CSV\n",
        "df = pd.read_csv('migración.csv')\n",
        "\n",
        "# Corrección de caracteres mal codificados\n",
        "df['Pais_Origen'] = df['Pais_Origen'].str.encode('latin1').str.decode('utf-8')\n",
        "df['Pais_Destino'] = df['Pais_Destino'].str.encode('latin1').str.decode('utf-8')\n",
        "df['Razon_Migracion'] = df['Razon_Migracion'].str.encode('latin1').str.decode('utf-8')\n",
        "\n",
        "# Limpieza básica\n",
        "df = df.drop_duplicates()\n",
        "df = df.dropna(subset=['Pais_Origen', 'Pais_Destino', 'Cantidad_Migrantes'])\n",
        "df['Cantidad_Migrantes'] = pd.to_numeric(df['Cantidad_Migrantes'], errors='coerce')\n",
        "\n",
        "# Agrupamiento por país de origen\n",
        "origen_total = df.groupby('Pais_Origen')['Cantidad_Migrantes'].sum().reset_index()\n",
        "\n",
        "# Visualización interactiva con Plotly\n",
        "fig_bar = px.bar(\n",
        "    origen_total,\n",
        "    x='Pais_Origen',\n",
        "    y='Cantidad_Migrantes',\n",
        "    title='Migrantes por País de Origen',\n",
        "    labels={'Cantidad_Migrantes': 'Cantidad de Migrantes'},\n",
        "    color='Cantidad_Migrantes',\n",
        "    color_continuous_scale='Viridis'\n",
        ")\n",
        "fig_bar.show()\n",
        "\n",
        "# Mapa de calor de correlaciones\n",
        "variables = df[['Cantidad_Migrantes', 'PIB_Origen', 'PIB_Destino', 'IDH_Origen', 'IDH_Destino']]\n",
        "plt.figure(figsize=(10, 6))\n",
        "sns.heatmap(variables.corr(), annot=True, cmap='coolwarm')\n",
        "plt.title('Correlaciones entre Variables Económicas y Migración')\n",
        "plt.tight_layout()\n",
        "plt.show()"
      ],
      "metadata": {
        "id": "x9mzLVuQ9gIi"
      },
      "execution_count": null,
      "outputs": []
    }
  ]
}